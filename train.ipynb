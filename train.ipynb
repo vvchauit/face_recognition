{
 "cells": [
  {
   "cell_type": "markdown",
   "metadata": {},
   "source": [
    "prepare dataset"
   ]
  },
  {
   "cell_type": "code",
   "execution_count": 1,
   "metadata": {},
   "outputs": [
    {
     "name": "stdout",
     "output_type": "stream",
     "text": [
      "INFO: PREPARE DATASET\n",
      "INFO: Align face\n",
      "Please wait...\n",
      "Aligned face save at dataset/celeb_vn/aligned\n",
      "INFO: Remove face mask region\n",
      "Please wait...\n",
      "Masked face save at dataset/celeb_vn/masked\n",
      "INFO: Combine dataset\n",
      "Please wait...\n",
      "Combine dataset save at dataset/celeb_vn/combine\n"
     ]
    }
   ],
   "source": [
    "from train import prepare_dataset\n",
    "\n",
    "INPUT_DIR = ''\n",
    "ALIGNED_DIR = ''\n",
    "MASKED_DIR = ''\n",
    "COMBINE_DIR = ''\n",
    "\n",
    "print('INFO: PREPARE DATASET')\n",
    "\n",
    "print('INFO: Align face')\n",
    "print('Please wait...')\n",
    "prepare_dataset.aligned_dataset(INPUT_DIR, ALIGNED_DIR)\n",
    "print('Aligned face save at ' + ALIGNED_DIR)\n",
    "print('INFO: Remove face mask region')\n",
    "print('Please wait...')\n",
    "prepare_dataset.masked_dataset(ALIGNED_DIR, MASKED_DIR)\n",
    "print('Masked face save at ' + MASKED_DIR)\n",
    "print('INFO: Combine dataset')\n",
    "print('Please wait...')\n",
    "prepare_dataset.combine_dataset(ALIGNED_DIR, MASKED_DIR, COMBINE_DIR)\n",
    "print('Combine dataset save at ' + COMBINE_DIR)"
   ]
  },
  {
   "cell_type": "code",
   "execution_count": 2,
   "metadata": {},
   "outputs": [],
   "source": [
    "import os\n",
    "import cv2\n",
    "in_dir = ''\n",
    "DATA_DIR = ''\n",
    "for fld_name in os.listdir(in_dir):\n",
    "    fld_path = os.path.join(in_dir, fld_name)\n",
    "    new_fld_path = os.path.join(DATA_DIR, fld_name)\n",
    "    os.mkdir(new_fld_path)\n",
    "    for file_name in os.listdir(fld_path):\n",
    "        file_path = os.path.join(fld_path, file_name)\n",
    "        new_file_path = os.path.join(new_fld_path, file_name)\n",
    "        img = cv2.imread(file_path)\n",
    "        center = (img.shape[1]//2, img.shape[0]//2)\n",
    "        pad_x = int(12.5*img.shape[1]/100)\n",
    "        pad_y = int(12.5*img.shape[0]/100)\n",
    "        ret_img = img.copy()[pad_y:img.shape[1]-pad_y, pad_x:img.shape[0]-pad_x]\n",
    "        cv2.imwrite(new_file_path, ret_img)"
   ]
  },
  {
   "cell_type": "markdown",
   "metadata": {},
   "source": [
    "train model"
   ]
  },
  {
   "cell_type": "code",
   "execution_count": 2,
   "metadata": {},
   "outputs": [
    {
     "name": "stdout",
     "output_type": "stream",
     "text": [
      "INFO: TRAIN MODEL\n",
      "INFO: Dataset pre_processing\n",
      "Please wait...\n",
      "Found 7352 files belonging to 515 classes.\n",
      "Using 5882 files for training.\n",
      "Found 7352 files belonging to 515 classes.\n",
      "Using 1470 files for validation.\n",
      "INFO: Create model\n",
      "INFO: Compile model\n",
      "Model: \"model\"\n",
      "_________________________________________________________________\n",
      " Layer (type)                Output Shape              Param #   \n",
      "=================================================================\n",
      " input_1 (InputLayer)        [(None, 299, 299, 3)]     0         \n",
      "                                                                 \n",
      " inception_resnet_v2 (Functi  (None, 8, 8, 1536)       54336736  \n",
      " onal)                                                           \n",
      "                                                                 \n",
      " global_average_pooling2d (G  (None, 1536)             0         \n",
      " lobalAveragePooling2D)                                          \n",
      "                                                                 \n",
      " flatten (Flatten)           (None, 1536)              0         \n",
      "                                                                 \n",
      " dense (Dense)               (None, 2048)              3145728   \n",
      "                                                                 \n",
      " dropout (Dropout)           (None, 2048)              0         \n",
      "                                                                 \n",
      " dense_1 (Dense)             (None, 1024)              2097152   \n",
      "                                                                 \n",
      " dropout_1 (Dropout)         (None, 1024)              0         \n",
      "                                                                 \n",
      " dense_2 (Dense)             (None, 512)               524288    \n",
      "                                                                 \n",
      " dropout_2 (Dropout)         (None, 512)               0         \n",
      "                                                                 \n",
      " batch_normalization_203 (Ba  (None, 512)              2048      \n",
      " tchNormalization)                                               \n",
      "                                                                 \n",
      " predictions (Dense)         (None, 515)               264195    \n",
      "                                                                 \n",
      "=================================================================\n",
      "Total params: 60,370,147\n",
      "Trainable params: 60,308,579\n",
      "Non-trainable params: 61,568\n",
      "_________________________________________________________________\n",
      "Epoch 1/500\n"
     ]
    },
    {
     "ename": "ResourceExhaustedError",
     "evalue": "Graph execution error:\n\nDetected at node 'model/inception_resnet_v2/batch_normalization_122/FusedBatchNormV3' defined at (most recent call last):\n    File \"C:\\Python310\\lib\\runpy.py\", line 196, in _run_module_as_main\n      return _run_code(code, main_globals, None,\n    File \"C:\\Python310\\lib\\runpy.py\", line 86, in _run_code\n      exec(code, run_globals)\n    File \"d:\\sw\\face_rec\\face_reg_new_ui\\env\\lib\\site-packages\\ipykernel_launcher.py\", line 17, in <module>\n      app.launch_new_instance()\n    File \"d:\\sw\\face_rec\\face_reg_new_ui\\env\\lib\\site-packages\\traitlets\\config\\application.py\", line 976, in launch_instance\n      app.start()\n    File \"d:\\sw\\face_rec\\face_reg_new_ui\\env\\lib\\site-packages\\ipykernel\\kernelapp.py\", line 712, in start\n      self.io_loop.start()\n    File \"d:\\sw\\face_rec\\face_reg_new_ui\\env\\lib\\site-packages\\tornado\\platform\\asyncio.py\", line 215, in start\n      self.asyncio_loop.run_forever()\n    File \"C:\\Python310\\lib\\asyncio\\base_events.py\", line 600, in run_forever\n      self._run_once()\n    File \"C:\\Python310\\lib\\asyncio\\base_events.py\", line 1896, in _run_once\n      handle._run()\n    File \"C:\\Python310\\lib\\asyncio\\events.py\", line 80, in _run\n      self._context.run(self._callback, *self._args)\n    File \"d:\\sw\\face_rec\\face_reg_new_ui\\env\\lib\\site-packages\\ipykernel\\kernelbase.py\", line 510, in dispatch_queue\n      await self.process_one()\n    File \"d:\\sw\\face_rec\\face_reg_new_ui\\env\\lib\\site-packages\\ipykernel\\kernelbase.py\", line 499, in process_one\n      await dispatch(*args)\n    File \"d:\\sw\\face_rec\\face_reg_new_ui\\env\\lib\\site-packages\\ipykernel\\kernelbase.py\", line 406, in dispatch_shell\n      await result\n    File \"d:\\sw\\face_rec\\face_reg_new_ui\\env\\lib\\site-packages\\ipykernel\\kernelbase.py\", line 730, in execute_request\n      reply_content = await reply_content\n    File \"d:\\sw\\face_rec\\face_reg_new_ui\\env\\lib\\site-packages\\ipykernel\\ipkernel.py\", line 383, in do_execute\n      res = shell.run_cell(\n    File \"d:\\sw\\face_rec\\face_reg_new_ui\\env\\lib\\site-packages\\ipykernel\\zmqshell.py\", line 528, in run_cell\n      return super().run_cell(*args, **kwargs)\n    File \"d:\\sw\\face_rec\\face_reg_new_ui\\env\\lib\\site-packages\\IPython\\core\\interactiveshell.py\", line 2881, in run_cell\n      result = self._run_cell(\n    File \"d:\\sw\\face_rec\\face_reg_new_ui\\env\\lib\\site-packages\\IPython\\core\\interactiveshell.py\", line 2936, in _run_cell\n      return runner(coro)\n    File \"d:\\sw\\face_rec\\face_reg_new_ui\\env\\lib\\site-packages\\IPython\\core\\async_helpers.py\", line 129, in _pseudo_sync_runner\n      coro.send(None)\n    File \"d:\\sw\\face_rec\\face_reg_new_ui\\env\\lib\\site-packages\\IPython\\core\\interactiveshell.py\", line 3135, in run_cell_async\n      has_raised = await self.run_ast_nodes(code_ast.body, cell_name,\n    File \"d:\\sw\\face_rec\\face_reg_new_ui\\env\\lib\\site-packages\\IPython\\core\\interactiveshell.py\", line 3338, in run_ast_nodes\n      if await self.run_code(code, result, async_=asy):\n    File \"d:\\sw\\face_rec\\face_reg_new_ui\\env\\lib\\site-packages\\IPython\\core\\interactiveshell.py\", line 3398, in run_code\n      exec(code_obj, self.user_global_ns, self.user_ns)\n    File \"C:\\Users\\trong\\AppData\\Local\\Temp\\ipykernel_7004\\1193150807.py\", line 66, in <cell line: 66>\n      history = model.fit(\n    File \"d:\\sw\\face_rec\\face_reg_new_ui\\env\\lib\\site-packages\\keras\\utils\\traceback_utils.py\", line 64, in error_handler\n      return fn(*args, **kwargs)\n    File \"d:\\sw\\face_rec\\face_reg_new_ui\\env\\lib\\site-packages\\keras\\engine\\training.py\", line 1409, in fit\n      tmp_logs = self.train_function(iterator)\n    File \"d:\\sw\\face_rec\\face_reg_new_ui\\env\\lib\\site-packages\\keras\\engine\\training.py\", line 1051, in train_function\n      return step_function(self, iterator)\n    File \"d:\\sw\\face_rec\\face_reg_new_ui\\env\\lib\\site-packages\\keras\\engine\\training.py\", line 1040, in step_function\n      outputs = model.distribute_strategy.run(run_step, args=(data,))\n    File \"d:\\sw\\face_rec\\face_reg_new_ui\\env\\lib\\site-packages\\keras\\engine\\training.py\", line 1030, in run_step\n      outputs = model.train_step(data)\n    File \"d:\\sw\\face_rec\\face_reg_new_ui\\env\\lib\\site-packages\\keras\\engine\\training.py\", line 889, in train_step\n      y_pred = self(x, training=True)\n    File \"d:\\sw\\face_rec\\face_reg_new_ui\\env\\lib\\site-packages\\keras\\utils\\traceback_utils.py\", line 64, in error_handler\n      return fn(*args, **kwargs)\n    File \"d:\\sw\\face_rec\\face_reg_new_ui\\env\\lib\\site-packages\\keras\\engine\\training.py\", line 490, in __call__\n      return super().__call__(*args, **kwargs)\n    File \"d:\\sw\\face_rec\\face_reg_new_ui\\env\\lib\\site-packages\\keras\\utils\\traceback_utils.py\", line 64, in error_handler\n      return fn(*args, **kwargs)\n    File \"d:\\sw\\face_rec\\face_reg_new_ui\\env\\lib\\site-packages\\keras\\engine\\base_layer.py\", line 1014, in __call__\n      outputs = call_fn(inputs, *args, **kwargs)\n    File \"d:\\sw\\face_rec\\face_reg_new_ui\\env\\lib\\site-packages\\keras\\utils\\traceback_utils.py\", line 92, in error_handler\n      return fn(*args, **kwargs)\n    File \"d:\\sw\\face_rec\\face_reg_new_ui\\env\\lib\\site-packages\\keras\\engine\\functional.py\", line 458, in call\n      return self._run_internal_graph(\n    File \"d:\\sw\\face_rec\\face_reg_new_ui\\env\\lib\\site-packages\\keras\\engine\\functional.py\", line 596, in _run_internal_graph\n      outputs = node.layer(*args, **kwargs)\n    File \"d:\\sw\\face_rec\\face_reg_new_ui\\env\\lib\\site-packages\\keras\\utils\\traceback_utils.py\", line 64, in error_handler\n      return fn(*args, **kwargs)\n    File \"d:\\sw\\face_rec\\face_reg_new_ui\\env\\lib\\site-packages\\keras\\engine\\training.py\", line 490, in __call__\n      return super().__call__(*args, **kwargs)\n    File \"d:\\sw\\face_rec\\face_reg_new_ui\\env\\lib\\site-packages\\keras\\utils\\traceback_utils.py\", line 64, in error_handler\n      return fn(*args, **kwargs)\n    File \"d:\\sw\\face_rec\\face_reg_new_ui\\env\\lib\\site-packages\\keras\\engine\\base_layer.py\", line 1014, in __call__\n      outputs = call_fn(inputs, *args, **kwargs)\n    File \"d:\\sw\\face_rec\\face_reg_new_ui\\env\\lib\\site-packages\\keras\\utils\\traceback_utils.py\", line 92, in error_handler\n      return fn(*args, **kwargs)\n    File \"d:\\sw\\face_rec\\face_reg_new_ui\\env\\lib\\site-packages\\keras\\engine\\functional.py\", line 458, in call\n      return self._run_internal_graph(\n    File \"d:\\sw\\face_rec\\face_reg_new_ui\\env\\lib\\site-packages\\keras\\engine\\functional.py\", line 596, in _run_internal_graph\n      outputs = node.layer(*args, **kwargs)\n    File \"d:\\sw\\face_rec\\face_reg_new_ui\\env\\lib\\site-packages\\keras\\utils\\traceback_utils.py\", line 64, in error_handler\n      return fn(*args, **kwargs)\n    File \"d:\\sw\\face_rec\\face_reg_new_ui\\env\\lib\\site-packages\\keras\\engine\\base_layer.py\", line 1014, in __call__\n      outputs = call_fn(inputs, *args, **kwargs)\n    File \"d:\\sw\\face_rec\\face_reg_new_ui\\env\\lib\\site-packages\\keras\\utils\\traceback_utils.py\", line 92, in error_handler\n      return fn(*args, **kwargs)\n    File \"d:\\sw\\face_rec\\face_reg_new_ui\\env\\lib\\site-packages\\keras\\layers\\normalization\\batch_normalization.py\", line 750, in call\n      outputs = self._fused_batch_norm(inputs, training=training)\n    File \"d:\\sw\\face_rec\\face_reg_new_ui\\env\\lib\\site-packages\\keras\\layers\\normalization\\batch_normalization.py\", line 594, in _fused_batch_norm\n      output, mean, variance = control_flow_util.smart_cond(\n    File \"d:\\sw\\face_rec\\face_reg_new_ui\\env\\lib\\site-packages\\keras\\utils\\control_flow_util.py\", line 105, in smart_cond\n      return tf.__internal__.smart_cond.smart_cond(\n    File \"d:\\sw\\face_rec\\face_reg_new_ui\\env\\lib\\site-packages\\keras\\layers\\normalization\\batch_normalization.py\", line 571, in _fused_batch_norm_training\n      return tf.compat.v1.nn.fused_batch_norm(\nNode: 'model/inception_resnet_v2/batch_normalization_122/FusedBatchNormV3'\nOOM when allocating tensor with shape[160] and type float on /job:localhost/replica:0/task:0/device:GPU:0 by allocator GPU_0_bfc\n\t [[{{node model/inception_resnet_v2/batch_normalization_122/FusedBatchNormV3}}]]\nHint: If you want to see a list of allocated tensors when OOM happens, add report_tensor_allocations_upon_oom to RunOptions for current allocation info. This isn't available when running in Eager mode.\n [Op:__inference_train_function_43779]",
     "output_type": "error",
     "traceback": [
      "\u001b[1;31m---------------------------------------------------------------------------\u001b[0m",
      "\u001b[1;31mResourceExhaustedError\u001b[0m                    Traceback (most recent call last)",
      "\u001b[1;32md:\\sw\\face_rec\\face_reg_new_ui\\train.ipynb Cell 5\u001b[0m in \u001b[0;36m<cell line: 66>\u001b[1;34m()\u001b[0m\n\u001b[0;32m     <a href='vscode-notebook-cell:/d%3A/sw/face_rec/face_reg_new_ui/train.ipynb#ch0000004?line=59'>60</a>\u001b[0m callbacks \u001b[39m=\u001b[39m [\n\u001b[0;32m     <a href='vscode-notebook-cell:/d%3A/sw/face_rec/face_reg_new_ui/train.ipynb#ch0000004?line=60'>61</a>\u001b[0m     keras\u001b[39m.\u001b[39mcallbacks\u001b[39m.\u001b[39mModelCheckpoint(os\u001b[39m.\u001b[39mpath\u001b[39m.\u001b[39mjoin(RESULTS_DIR, \u001b[39m\"\u001b[39m\u001b[39mcheck_point.h5\u001b[39m\u001b[39m\"\u001b[39m), monitor\u001b[39m=\u001b[39m\u001b[39m'\u001b[39m\u001b[39mval_categorical_accuracy\u001b[39m\u001b[39m'\u001b[39m, verbose\u001b[39m=\u001b[39m\u001b[39m1\u001b[39m, save_best_only\u001b[39m=\u001b[39m\u001b[39mTrue\u001b[39;00m, save_weights_only\u001b[39m=\u001b[39m\u001b[39mFalse\u001b[39;00m, mode\u001b[39m=\u001b[39m\u001b[39m'\u001b[39m\u001b[39mmax\u001b[39m\u001b[39m'\u001b[39m),\n\u001b[0;32m     <a href='vscode-notebook-cell:/d%3A/sw/face_rec/face_reg_new_ui/train.ipynb#ch0000004?line=61'>62</a>\u001b[0m ]\n\u001b[0;32m     <a href='vscode-notebook-cell:/d%3A/sw/face_rec/face_reg_new_ui/train.ipynb#ch0000004?line=63'>64</a>\u001b[0m model\u001b[39m.\u001b[39msummary()\n\u001b[1;32m---> <a href='vscode-notebook-cell:/d%3A/sw/face_rec/face_reg_new_ui/train.ipynb#ch0000004?line=65'>66</a>\u001b[0m history \u001b[39m=\u001b[39m model\u001b[39m.\u001b[39;49mfit(\n\u001b[0;32m     <a href='vscode-notebook-cell:/d%3A/sw/face_rec/face_reg_new_ui/train.ipynb#ch0000004?line=66'>67</a>\u001b[0m     normalized_train_ds,\n\u001b[0;32m     <a href='vscode-notebook-cell:/d%3A/sw/face_rec/face_reg_new_ui/train.ipynb#ch0000004?line=67'>68</a>\u001b[0m     epochs \u001b[39m=\u001b[39;49m EPOCHS,\n\u001b[0;32m     <a href='vscode-notebook-cell:/d%3A/sw/face_rec/face_reg_new_ui/train.ipynb#ch0000004?line=68'>69</a>\u001b[0m     callbacks \u001b[39m=\u001b[39;49m callbacks,\n\u001b[0;32m     <a href='vscode-notebook-cell:/d%3A/sw/face_rec/face_reg_new_ui/train.ipynb#ch0000004?line=69'>70</a>\u001b[0m     validation_data \u001b[39m=\u001b[39;49m normalized_val_ds,\n\u001b[0;32m     <a href='vscode-notebook-cell:/d%3A/sw/face_rec/face_reg_new_ui/train.ipynb#ch0000004?line=70'>71</a>\u001b[0m )\n\u001b[0;32m     <a href='vscode-notebook-cell:/d%3A/sw/face_rec/face_reg_new_ui/train.ipynb#ch0000004?line=72'>73</a>\u001b[0m model\u001b[39m.\u001b[39msave(os\u001b[39m.\u001b[39mpath\u001b[39m.\u001b[39mjoin(RESULTS_DIR, \u001b[39m\"\u001b[39m\u001b[39mfinal.h5\u001b[39m\u001b[39m\"\u001b[39m))\n\u001b[0;32m     <a href='vscode-notebook-cell:/d%3A/sw/face_rec/face_reg_new_ui/train.ipynb#ch0000004?line=74'>75</a>\u001b[0m epochs \u001b[39m=\u001b[39m [i \u001b[39mfor\u001b[39;00m i \u001b[39min\u001b[39;00m \u001b[39mrange\u001b[39m(\u001b[39m1\u001b[39m, \u001b[39mlen\u001b[39m(history\u001b[39m.\u001b[39mhistory[\u001b[39m'\u001b[39m\u001b[39mloss\u001b[39m\u001b[39m'\u001b[39m])\u001b[39m+\u001b[39m\u001b[39m1\u001b[39m)]\n",
      "File \u001b[1;32md:\\sw\\face_rec\\face_reg_new_ui\\env\\lib\\site-packages\\keras\\utils\\traceback_utils.py:67\u001b[0m, in \u001b[0;36mfilter_traceback.<locals>.error_handler\u001b[1;34m(*args, **kwargs)\u001b[0m\n\u001b[0;32m     65\u001b[0m \u001b[39mexcept\u001b[39;00m \u001b[39mException\u001b[39;00m \u001b[39mas\u001b[39;00m e:  \u001b[39m# pylint: disable=broad-except\u001b[39;00m\n\u001b[0;32m     66\u001b[0m   filtered_tb \u001b[39m=\u001b[39m _process_traceback_frames(e\u001b[39m.\u001b[39m__traceback__)\n\u001b[1;32m---> 67\u001b[0m   \u001b[39mraise\u001b[39;00m e\u001b[39m.\u001b[39mwith_traceback(filtered_tb) \u001b[39mfrom\u001b[39;00m \u001b[39mNone\u001b[39m\n\u001b[0;32m     68\u001b[0m \u001b[39mfinally\u001b[39;00m:\n\u001b[0;32m     69\u001b[0m   \u001b[39mdel\u001b[39;00m filtered_tb\n",
      "File \u001b[1;32md:\\sw\\face_rec\\face_reg_new_ui\\env\\lib\\site-packages\\tensorflow\\python\\eager\\execute.py:54\u001b[0m, in \u001b[0;36mquick_execute\u001b[1;34m(op_name, num_outputs, inputs, attrs, ctx, name)\u001b[0m\n\u001b[0;32m     52\u001b[0m \u001b[39mtry\u001b[39;00m:\n\u001b[0;32m     53\u001b[0m   ctx\u001b[39m.\u001b[39mensure_initialized()\n\u001b[1;32m---> 54\u001b[0m   tensors \u001b[39m=\u001b[39m pywrap_tfe\u001b[39m.\u001b[39mTFE_Py_Execute(ctx\u001b[39m.\u001b[39m_handle, device_name, op_name,\n\u001b[0;32m     55\u001b[0m                                       inputs, attrs, num_outputs)\n\u001b[0;32m     56\u001b[0m \u001b[39mexcept\u001b[39;00m core\u001b[39m.\u001b[39m_NotOkStatusException \u001b[39mas\u001b[39;00m e:\n\u001b[0;32m     57\u001b[0m   \u001b[39mif\u001b[39;00m name \u001b[39mis\u001b[39;00m \u001b[39mnot\u001b[39;00m \u001b[39mNone\u001b[39;00m:\n",
      "\u001b[1;31mResourceExhaustedError\u001b[0m: Graph execution error:\n\nDetected at node 'model/inception_resnet_v2/batch_normalization_122/FusedBatchNormV3' defined at (most recent call last):\n    File \"C:\\Python310\\lib\\runpy.py\", line 196, in _run_module_as_main\n      return _run_code(code, main_globals, None,\n    File \"C:\\Python310\\lib\\runpy.py\", line 86, in _run_code\n      exec(code, run_globals)\n    File \"d:\\sw\\face_rec\\face_reg_new_ui\\env\\lib\\site-packages\\ipykernel_launcher.py\", line 17, in <module>\n      app.launch_new_instance()\n    File \"d:\\sw\\face_rec\\face_reg_new_ui\\env\\lib\\site-packages\\traitlets\\config\\application.py\", line 976, in launch_instance\n      app.start()\n    File \"d:\\sw\\face_rec\\face_reg_new_ui\\env\\lib\\site-packages\\ipykernel\\kernelapp.py\", line 712, in start\n      self.io_loop.start()\n    File \"d:\\sw\\face_rec\\face_reg_new_ui\\env\\lib\\site-packages\\tornado\\platform\\asyncio.py\", line 215, in start\n      self.asyncio_loop.run_forever()\n    File \"C:\\Python310\\lib\\asyncio\\base_events.py\", line 600, in run_forever\n      self._run_once()\n    File \"C:\\Python310\\lib\\asyncio\\base_events.py\", line 1896, in _run_once\n      handle._run()\n    File \"C:\\Python310\\lib\\asyncio\\events.py\", line 80, in _run\n      self._context.run(self._callback, *self._args)\n    File \"d:\\sw\\face_rec\\face_reg_new_ui\\env\\lib\\site-packages\\ipykernel\\kernelbase.py\", line 510, in dispatch_queue\n      await self.process_one()\n    File \"d:\\sw\\face_rec\\face_reg_new_ui\\env\\lib\\site-packages\\ipykernel\\kernelbase.py\", line 499, in process_one\n      await dispatch(*args)\n    File \"d:\\sw\\face_rec\\face_reg_new_ui\\env\\lib\\site-packages\\ipykernel\\kernelbase.py\", line 406, in dispatch_shell\n      await result\n    File \"d:\\sw\\face_rec\\face_reg_new_ui\\env\\lib\\site-packages\\ipykernel\\kernelbase.py\", line 730, in execute_request\n      reply_content = await reply_content\n    File \"d:\\sw\\face_rec\\face_reg_new_ui\\env\\lib\\site-packages\\ipykernel\\ipkernel.py\", line 383, in do_execute\n      res = shell.run_cell(\n    File \"d:\\sw\\face_rec\\face_reg_new_ui\\env\\lib\\site-packages\\ipykernel\\zmqshell.py\", line 528, in run_cell\n      return super().run_cell(*args, **kwargs)\n    File \"d:\\sw\\face_rec\\face_reg_new_ui\\env\\lib\\site-packages\\IPython\\core\\interactiveshell.py\", line 2881, in run_cell\n      result = self._run_cell(\n    File \"d:\\sw\\face_rec\\face_reg_new_ui\\env\\lib\\site-packages\\IPython\\core\\interactiveshell.py\", line 2936, in _run_cell\n      return runner(coro)\n    File \"d:\\sw\\face_rec\\face_reg_new_ui\\env\\lib\\site-packages\\IPython\\core\\async_helpers.py\", line 129, in _pseudo_sync_runner\n      coro.send(None)\n    File \"d:\\sw\\face_rec\\face_reg_new_ui\\env\\lib\\site-packages\\IPython\\core\\interactiveshell.py\", line 3135, in run_cell_async\n      has_raised = await self.run_ast_nodes(code_ast.body, cell_name,\n    File \"d:\\sw\\face_rec\\face_reg_new_ui\\env\\lib\\site-packages\\IPython\\core\\interactiveshell.py\", line 3338, in run_ast_nodes\n      if await self.run_code(code, result, async_=asy):\n    File \"d:\\sw\\face_rec\\face_reg_new_ui\\env\\lib\\site-packages\\IPython\\core\\interactiveshell.py\", line 3398, in run_code\n      exec(code_obj, self.user_global_ns, self.user_ns)\n    File \"C:\\Users\\trong\\AppData\\Local\\Temp\\ipykernel_7004\\1193150807.py\", line 66, in <cell line: 66>\n      history = model.fit(\n    File \"d:\\sw\\face_rec\\face_reg_new_ui\\env\\lib\\site-packages\\keras\\utils\\traceback_utils.py\", line 64, in error_handler\n      return fn(*args, **kwargs)\n    File \"d:\\sw\\face_rec\\face_reg_new_ui\\env\\lib\\site-packages\\keras\\engine\\training.py\", line 1409, in fit\n      tmp_logs = self.train_function(iterator)\n    File \"d:\\sw\\face_rec\\face_reg_new_ui\\env\\lib\\site-packages\\keras\\engine\\training.py\", line 1051, in train_function\n      return step_function(self, iterator)\n    File \"d:\\sw\\face_rec\\face_reg_new_ui\\env\\lib\\site-packages\\keras\\engine\\training.py\", line 1040, in step_function\n      outputs = model.distribute_strategy.run(run_step, args=(data,))\n    File \"d:\\sw\\face_rec\\face_reg_new_ui\\env\\lib\\site-packages\\keras\\engine\\training.py\", line 1030, in run_step\n      outputs = model.train_step(data)\n    File \"d:\\sw\\face_rec\\face_reg_new_ui\\env\\lib\\site-packages\\keras\\engine\\training.py\", line 889, in train_step\n      y_pred = self(x, training=True)\n    File \"d:\\sw\\face_rec\\face_reg_new_ui\\env\\lib\\site-packages\\keras\\utils\\traceback_utils.py\", line 64, in error_handler\n      return fn(*args, **kwargs)\n    File \"d:\\sw\\face_rec\\face_reg_new_ui\\env\\lib\\site-packages\\keras\\engine\\training.py\", line 490, in __call__\n      return super().__call__(*args, **kwargs)\n    File \"d:\\sw\\face_rec\\face_reg_new_ui\\env\\lib\\site-packages\\keras\\utils\\traceback_utils.py\", line 64, in error_handler\n      return fn(*args, **kwargs)\n    File \"d:\\sw\\face_rec\\face_reg_new_ui\\env\\lib\\site-packages\\keras\\engine\\base_layer.py\", line 1014, in __call__\n      outputs = call_fn(inputs, *args, **kwargs)\n    File \"d:\\sw\\face_rec\\face_reg_new_ui\\env\\lib\\site-packages\\keras\\utils\\traceback_utils.py\", line 92, in error_handler\n      return fn(*args, **kwargs)\n    File \"d:\\sw\\face_rec\\face_reg_new_ui\\env\\lib\\site-packages\\keras\\engine\\functional.py\", line 458, in call\n      return self._run_internal_graph(\n    File \"d:\\sw\\face_rec\\face_reg_new_ui\\env\\lib\\site-packages\\keras\\engine\\functional.py\", line 596, in _run_internal_graph\n      outputs = node.layer(*args, **kwargs)\n    File \"d:\\sw\\face_rec\\face_reg_new_ui\\env\\lib\\site-packages\\keras\\utils\\traceback_utils.py\", line 64, in error_handler\n      return fn(*args, **kwargs)\n    File \"d:\\sw\\face_rec\\face_reg_new_ui\\env\\lib\\site-packages\\keras\\engine\\training.py\", line 490, in __call__\n      return super().__call__(*args, **kwargs)\n    File \"d:\\sw\\face_rec\\face_reg_new_ui\\env\\lib\\site-packages\\keras\\utils\\traceback_utils.py\", line 64, in error_handler\n      return fn(*args, **kwargs)\n    File \"d:\\sw\\face_rec\\face_reg_new_ui\\env\\lib\\site-packages\\keras\\engine\\base_layer.py\", line 1014, in __call__\n      outputs = call_fn(inputs, *args, **kwargs)\n    File \"d:\\sw\\face_rec\\face_reg_new_ui\\env\\lib\\site-packages\\keras\\utils\\traceback_utils.py\", line 92, in error_handler\n      return fn(*args, **kwargs)\n    File \"d:\\sw\\face_rec\\face_reg_new_ui\\env\\lib\\site-packages\\keras\\engine\\functional.py\", line 458, in call\n      return self._run_internal_graph(\n    File \"d:\\sw\\face_rec\\face_reg_new_ui\\env\\lib\\site-packages\\keras\\engine\\functional.py\", line 596, in _run_internal_graph\n      outputs = node.layer(*args, **kwargs)\n    File \"d:\\sw\\face_rec\\face_reg_new_ui\\env\\lib\\site-packages\\keras\\utils\\traceback_utils.py\", line 64, in error_handler\n      return fn(*args, **kwargs)\n    File \"d:\\sw\\face_rec\\face_reg_new_ui\\env\\lib\\site-packages\\keras\\engine\\base_layer.py\", line 1014, in __call__\n      outputs = call_fn(inputs, *args, **kwargs)\n    File \"d:\\sw\\face_rec\\face_reg_new_ui\\env\\lib\\site-packages\\keras\\utils\\traceback_utils.py\", line 92, in error_handler\n      return fn(*args, **kwargs)\n    File \"d:\\sw\\face_rec\\face_reg_new_ui\\env\\lib\\site-packages\\keras\\layers\\normalization\\batch_normalization.py\", line 750, in call\n      outputs = self._fused_batch_norm(inputs, training=training)\n    File \"d:\\sw\\face_rec\\face_reg_new_ui\\env\\lib\\site-packages\\keras\\layers\\normalization\\batch_normalization.py\", line 594, in _fused_batch_norm\n      output, mean, variance = control_flow_util.smart_cond(\n    File \"d:\\sw\\face_rec\\face_reg_new_ui\\env\\lib\\site-packages\\keras\\utils\\control_flow_util.py\", line 105, in smart_cond\n      return tf.__internal__.smart_cond.smart_cond(\n    File \"d:\\sw\\face_rec\\face_reg_new_ui\\env\\lib\\site-packages\\keras\\layers\\normalization\\batch_normalization.py\", line 571, in _fused_batch_norm_training\n      return tf.compat.v1.nn.fused_batch_norm(\nNode: 'model/inception_resnet_v2/batch_normalization_122/FusedBatchNormV3'\nOOM when allocating tensor with shape[160] and type float on /job:localhost/replica:0/task:0/device:GPU:0 by allocator GPU_0_bfc\n\t [[{{node model/inception_resnet_v2/batch_normalization_122/FusedBatchNormV3}}]]\nHint: If you want to see a list of allocated tensors when OOM happens, add report_tensor_allocations_upon_oom to RunOptions for current allocation info. This isn't available when running in Eager mode.\n [Op:__inference_train_function_43779]"
     ]
    }
   ],
   "source": [
    "import tensorflow as tf\n",
    "import keras\n",
    "from keras.metrics import CategoricalAccuracy\n",
    "from keras.preprocessing.image import ImageDataGenerator\n",
    "import os\n",
    "import sys\n",
    "sys.path.append(r'D:\\sw\\face_rec\\face_reg_new_ui')\n",
    "from models.feature_extraction_model.inceptionresnetv2 import get_train_model\n",
    "from keras.models import Model\n",
    "from train.arcface_metrics import ArcFace\n",
    "from keras.layers import Input\n",
    "import numpy as np\n",
    "import math\n",
    "\n",
    "\n",
    "EPOCHS = 200\n",
    "BATCH_SIZE = 256\n",
    "DATA_DIR = ''\n",
    "RESULTS_DIR = 'train/results'\n",
    "\n",
    "print('INFO: TRAIN MODEL')\n",
    "\n",
    "print('INFO: Dataset pre_processing')\n",
    "print('Please wait...')\n",
    "\n",
    "num_class = len(os.listdir(DATA_DIR))\n",
    "\n",
    "train_ds = tf.keras.utils.image_dataset_from_directory(\n",
    "    DATA_DIR,\n",
    "    label_mode = 'categorical',\n",
    "    image_size=(160, 160),\n",
    "    batch_size=BATCH_SIZE,\n",
    "    shuffle=True,\n",
    "    subset = \"training\",\n",
    "    validation_split = 0.2,\n",
    "    seed = 23,\n",
    ")\n",
    "\n",
    "val_ds = tf.keras.utils.image_dataset_from_directory(\n",
    "    DATA_DIR,\n",
    "    label_mode = 'categorical',\n",
    "    image_size=(160, 160),\n",
    "    batch_size=BATCH_SIZE,\n",
    "    shuffle=True,\n",
    "    subset = \"validation\",\n",
    "    validation_split = 0.2,\n",
    "    seed = 23,\n",
    ")\n",
    "\n",
    "train_ds = train_ds.prefetch(buffer_size=BATCH_SIZE)\n",
    "val_ds = val_ds.prefetch(buffer_size=BATCH_SIZE)\n",
    "\n",
    "# data_augmentation = keras.layers.RandomZoom(0.2)\n",
    "# augmented_train_ds = train_ds.map(lambda x, y: (data_augmentation(x, training=True), y))\n",
    "normalization_layer = keras.layers.Rescaling(1./255)\n",
    "normalized_train_ds = train_ds.map(lambda x, y: (normalization_layer(x), y))\n",
    "normalized_val_ds = val_ds.map(lambda x, y: (normalization_layer(x), y))\n",
    "\n",
    "print('INFO: Create model')\n",
    "model = get_train_model(num_class)\n",
    "\n",
    "print('INFO: Compile model')\n",
    "model.compile(loss='categorical_crossentropy',optimizer='Adam', metrics=[CategoricalAccuracy()])\n",
    "\n",
    "cp1 = keras.callbacks.ModelCheckpoint(os.path.join(RESULTS_DIR, \"check_point_.h5\"), monitor='loss', verbose=1, save_best_only=True, save_weights_only=False, mode='min')\n",
    "\n",
    "callbacks = [\n",
    "    cp1,\n",
    "]\n",
    "\n",
    "model.summary()\n",
    "\n",
    "history = model.fit(\n",
    "    normalized_train_ds,\n",
    "    epochs = EPOCHS,\n",
    "    verbose = 1,\n",
    "    callbacks = callbacks,\n",
    "    validation_data = normalized_val_ds,\n",
    "    shuffle=True,\n",
    ")\n",
    "\n",
    "model.save(os.path.join(RESULTS_DIR, \"final_.h5\"))"
   ]
  },
  {
   "cell_type": "markdown",
   "metadata": {},
   "source": [
    "convert trained model to embedding model"
   ]
  },
  {
   "cell_type": "markdown",
   "metadata": {},
   "source": [
    "softmax head"
   ]
  },
  {
   "cell_type": "code",
   "execution_count": 1,
   "metadata": {},
   "outputs": [
    {
     "name": "stdout",
     "output_type": "stream",
     "text": [
      "Model: \"model\"\n",
      "_________________________________________________________________\n",
      " Layer (type)                Output Shape              Param #   \n",
      "=================================================================\n",
      " input_1 (InputLayer)        [(None, 160, 160, 3)]     0         \n",
      "                                                                 \n",
      " inception_resnet_v2 (Functi  (None, 3, 3, 1536)       54336736  \n",
      " onal)                                                           \n",
      "                                                                 \n",
      " global_average_pooling2d (G  (None, 1536)             0         \n",
      " lobalAveragePooling2D)                                          \n",
      "                                                                 \n",
      " flatten (Flatten)           (None, 1536)              0         \n",
      "                                                                 \n",
      " dense (Dense)               (None, 1024)              1572864   \n",
      "                                                                 \n",
      " dropout (Dropout)           (None, 1024)              0         \n",
      "                                                                 \n",
      " dense_1 (Dense)             (None, 512)               524288    \n",
      "                                                                 \n",
      " dropout_1 (Dropout)         (None, 512)               0         \n",
      "                                                                 \n",
      " dense_2 (Dense)             (None, 128)               65536     \n",
      "                                                                 \n",
      " dropout_2 (Dropout)         (None, 128)               0         \n",
      "                                                                 \n",
      " batch_normalization_203 (Ba  (None, 128)              512       \n",
      " tchNormalization)                                               \n",
      "                                                                 \n",
      "=================================================================\n",
      "Total params: 56,499,936\n",
      "Trainable params: 2,162,944\n",
      "Non-trainable params: 54,336,992\n",
      "_________________________________________________________________\n"
     ]
    }
   ],
   "source": [
    "from models.feature_extraction_model.inceptionresnetv2 import get_train_model\n",
    "from keras.models import Model, load_model\n",
    "\n",
    "base_model = load_model('train/results/check_point.h5')\n",
    "model = Model(base_model.inputs, base_model.layers[-2].output)\n",
    "model.save_weights('models/feature_extraction_model/inceptionresnetv2_512_weights.h5')\n",
    "model.summary()"
   ]
  },
  {
   "cell_type": "markdown",
   "metadata": {},
   "source": [
    "arcface head"
   ]
  },
  {
   "cell_type": "code",
   "execution_count": 1,
   "metadata": {},
   "outputs": [
    {
     "name": "stderr",
     "output_type": "stream",
     "text": [
      "d:\\sw\\face_rec\\face_reg_new_ui\\env\\lib\\site-packages\\keras\\layers\\core\\lambda_layer.py:303: UserWarning: keras.applications.inception_resnet_v2 is not loaded, but a Lambda layer uses it. It may cause errors.\n",
      "  function = cls._parse_function_from_config(config, custom_objects,\n"
     ]
    },
    {
     "name": "stdout",
     "output_type": "stream",
     "text": [
      "Model: \"model_2\"\n",
      "_________________________________________________________________\n",
      " Layer (type)                Output Shape              Param #   \n",
      "=================================================================\n",
      " input_5 (InputLayer)        [(None, 160, 160, 3)]     0         \n",
      "                                                                 \n",
      " inception_resnet_v2 (Functi  (None, 3, 3, 1536)       54336736  \n",
      " onal)                                                           \n",
      "                                                                 \n",
      " AvgPool (GlobalAveragePooli  (None, 1536)             0         \n",
      " ng2D)                                                           \n",
      "                                                                 \n",
      " Dropout (Dropout)           (None, 1536)              0         \n",
      "                                                                 \n",
      " Bottleneck (Dense)          (None, 512)               786432    \n",
      "                                                                 \n",
      " Bottleneck_BatchNorm (Batch  (None, 512)              1536      \n",
      " Normalization)                                                  \n",
      "                                                                 \n",
      "=================================================================\n",
      "Total params: 55,124,704\n",
      "Trainable params: 786,944\n",
      "Non-trainable params: 54,337,760\n",
      "_________________________________________________________________\n",
      "WARNING:tensorflow:Compiled the loaded model, but the compiled metrics have yet to be built. `model.compile_metrics` will be empty until you train or evaluate the model.\n"
     ]
    }
   ],
   "source": [
    "from keras.models import Model, load_model\n",
    "from train.arcface_metrics import ArcFace\n",
    "\n",
    "model = load_model(r'train\\results\\check_point.h5', custom_objects={'ArcFace': ArcFace})\n",
    "model = model.get_layer('model_2')\n",
    "model.summary()\n",
    "model.save(r'models/feature_extraction_model/inceptionresnetv2_512_arcface.h5')"
   ]
  }
 ],
 "metadata": {
  "kernelspec": {
   "display_name": "Python 3.9.12 64-bit",
   "language": "python",
   "name": "python3"
  },
  "language_info": {
   "codemirror_mode": {
    "name": "ipython",
    "version": 3
   },
   "file_extension": ".py",
   "mimetype": "text/x-python",
   "name": "python",
   "nbconvert_exporter": "python",
   "pygments_lexer": "ipython3",
   "version": "3.9.12"
  },
  "orig_nbformat": 4,
  "vscode": {
   "interpreter": {
    "hash": "b0fa6594d8f4cbf19f97940f81e996739fb7646882a419484c72d19e05852a7e"
   }
  }
 },
 "nbformat": 4,
 "nbformat_minor": 2
}
